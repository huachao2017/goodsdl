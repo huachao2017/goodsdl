{
 "cells": [
  {
   "cell_type": "code",
   "execution_count": null,
   "metadata": {
    "collapsed": false
   },
   "outputs": [],
   "source": [
    "import numpy as np\n",
    "import matplotlib.pyplot as plt\n",
    "# from scipy import ndimage as ndi\n",
    "from skimage.color import rgb2gray\n",
    "from skimage import feature\n",
    "from PIL import Image\n",
    "from skimage.filters import roberts, sobel, scharr, prewitt\n",
    "from skimage.morphology import convex_hull_image\n",
    "from skimage.filters import gaussian\n",
    "from skimage.segmentation import active_contour\n",
    "from skimage.morphology import skeletonize\n",
    "\n",
    "\n",
    "im = Image.open(\"C:/Users/huac/Desktop/0232_170232.061748_ai.jpg\")\n",
    "# im = Image.open(\"C:/Users/huac/Desktop/0534_110534.405312_ai.jpg\")\n",
    "# im = Image.open(\"C:/Users/huac/Desktop/0534_110534.405312_ai.jpg\")\n",
    "im = rgb2gray(np.array(im))\n",
    "print(im.shape)\n",
    "# im = ndi.rotate(im, 15, mode='constant')\n",
    "im = gaussian(im, 3)\n",
    "# im += 0.2 * np.random.random(im.shape)\n",
    "# s = np.linspace(0, 2*np.pi, 400)\n",
    "# x = 220 + 100*np.cos(s)\n",
    "# y = 100 + 100*np.sin(s)\n",
    "# init = np.array([x, y]).T\n",
    "\n",
    "# snake = active_contour(gaussian(img, 3),\n",
    "#                        init, alpha=0.015, beta=10, gamma=0.001)\n",
    "\n",
    "# Compute the Canny filter for two values of sigma\n",
    "# edges1 = active_contour(im,init, alpha=0.015, beta=10, gamma=0.001)\n",
    "edges1 = sobel(im)\n",
    "print(edges1)\n",
    "edges2 = roberts(im)\n",
    "# edges1 = skeletonize(sobel(im))\n",
    "# edges2 = skeletonize(roberts(im))\n",
    "# edges2 = feature.canny(im, sigma=8)\n",
    "\n",
    "# display results\n",
    "fig, (ax1, ax2, ax3) = plt.subplots(nrows=1, ncols=3, figsize=(16, 6), sharex=True, sharey=True)\n",
    "\n",
    "ax1.imshow(im, cmap=plt.cm.jet)\n",
    "ax1.axis('off')\n",
    "ax1.set_title('noisy image', fontsize=20)\n",
    "\n",
    "ax2.imshow(edges1, cmap=plt.cm.gray)\n",
    "ax2.axis('off')\n",
    "ax2.set_title('sobel', fontsize=20)\n",
    "\n",
    "ax3.imshow(edges2, cmap=plt.cm.gray)\n",
    "ax3.axis('off')\n",
    "ax3.set_title('roberts', fontsize=20)\n",
    "\n",
    "fig.subplots_adjust(wspace=0.02, hspace=0.00, top=0.9,\n",
    "                    bottom=0.02, left=0.02, right=0.98)\n",
    "\n",
    "plt.show()"
   ]
  },
  {
   "cell_type": "code",
   "execution_count": null,
   "metadata": {
    "collapsed": true
   },
   "outputs": [],
   "source": []
  }
 ],
 "metadata": {
  "kernelspec": {
   "display_name": "Python 3",
   "language": "python",
   "name": "python3"
  },
  "language_info": {
   "codemirror_mode": {
    "name": "ipython",
    "version": 3
   },
   "file_extension": ".py",
   "mimetype": "text/x-python",
   "name": "python",
   "nbconvert_exporter": "python",
   "pygments_lexer": "ipython3",
   "version": "3.6.0"
  }
 },
 "nbformat": 4,
 "nbformat_minor": 2
}
