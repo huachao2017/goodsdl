{
 "cells": [
  {
   "cell_type": "code",
   "execution_count": 57,
   "metadata": {},
   "outputs": [],
   "source": [
    "import numpy as np\n",
    "import os\n",
    "import six.moves.urllib as urllib\n",
    "import sys\n",
    "import tensorflow as tf\n",
    "\n",
    "from collections import defaultdict\n",
    "from io import StringIO\n",
    "from PIL import Image"
   ]
  },
  {
   "cell_type": "code",
   "execution_count": 58,
   "metadata": {
    "collapsed": true
   },
   "outputs": [],
   "source": [
    "# This is needed since the notebook is stored in the object_detection folder.\n",
    "sys.path.append(\"..\")\n",
    "\n",
    "from utils import label_map_util\n",
    "\n",
    "from utils import visualization_utils as vis_util"
   ]
  },
  {
   "cell_type": "code",
   "execution_count": 59,
   "metadata": {
    "collapsed": true
   },
   "outputs": [],
   "source": [
    "#PATH_TO_CKPT = 'train_goods_4/frozen_inference_graph_61434.pb'\n",
    "PATH_TO_CKPT = 'train_goods_5/frozen_inference_graph_4719.pb'\n",
    "\n",
    "# List of the strings that is used to add correct label for each box.\n",
    "PATH_TO_LABELS = os.path.join('train_goods_4', 'goods_label_map.pbtxt')\n",
    "\n",
    "IMAGE_DIR = '/home/source/models/research/object_detection/test_goods/test'\n",
    "\n",
    "NUM_CLASSES = 10"
   ]
  },
  {
   "cell_type": "code",
   "execution_count": 60,
   "metadata": {
    "collapsed": true
   },
   "outputs": [],
   "source": [
    "detection_graph = tf.Graph()\n",
    "with detection_graph.as_default():\n",
    "  od_graph_def = tf.GraphDef()\n",
    "  with tf.gfile.GFile(PATH_TO_CKPT, 'rb') as fid:\n",
    "    serialized_graph = fid.read()\n",
    "    od_graph_def.ParseFromString(serialized_graph)\n",
    "    tf.import_graph_def(od_graph_def, name='')"
   ]
  },
  {
   "cell_type": "code",
   "execution_count": 61,
   "metadata": {
    "collapsed": true
   },
   "outputs": [],
   "source": [
    "label_map = label_map_util.load_labelmap(PATH_TO_LABELS)\n",
    "categories = label_map_util.convert_label_map_to_categories(label_map, max_num_classes=NUM_CLASSES, use_display_name=True)\n",
    "category_index = label_map_util.create_category_index(categories)"
   ]
  },
  {
   "cell_type": "code",
   "execution_count": 62,
   "metadata": {
    "collapsed": true
   },
   "outputs": [],
   "source": [
    "def load_image_into_numpy_array(image):\n",
    "  (im_width, im_height) = image.size\n",
    "  return np.array(image.getdata()).reshape(\n",
    "      (im_height, im_width, 3)).astype(np.uint8)"
   ]
  },
  {
   "cell_type": "code",
   "execution_count": 63,
   "metadata": {
    "collapsed": false
   },
   "outputs": [
    {
     "name": "stdout",
     "output_type": "stream",
     "text": [
      "output_dir:/home/source/models/research/object_detection/test_goods/test/meinianda\n",
      "generate output_image:/home/source/models/research/object_detection/test_goods/test/meinianda/visual_WIN_20171106_14_49_06_Pro.jpg\n",
      "generate output_image:/home/source/models/research/object_detection/test_goods/test/meinianda/visual_WIN_20171106_14_49_08_Pro.jpg\n",
      "generate output_image:/home/source/models/research/object_detection/test_goods/test/meinianda/visual_WIN_20171106_14_49_11_Pro.jpg\n",
      "generate output_image:/home/source/models/research/object_detection/test_goods/test/meinianda/visual_WIN_20171106_14_49_13_Pro.jpg\n",
      "generate output_image:/home/source/models/research/object_detection/test_goods/test/meinianda/visual_WIN_20171106_14_49_15_Pro.jpg\n",
      "generate output_image:/home/source/models/research/object_detection/test_goods/test/meinianda/visual_WIN_20171106_14_49_17_Pro.jpg\n",
      "generate output_image:/home/source/models/research/object_detection/test_goods/test/meinianda/visual_WIN_20171106_14_49_20_Pro.jpg\n",
      "generate output_image:/home/source/models/research/object_detection/test_goods/test/meinianda/visual_WIN_20171106_14_49_24_Pro.jpg\n",
      "generate output_image:/home/source/models/research/object_detection/test_goods/test/meinianda/visual_WIN_20171106_14_49_26_Pro.jpg\n",
      "generate output_image:/home/source/models/research/object_detection/test_goods/test/meinianda/visual_WIN_20171106_14_49_31_Pro.jpg\n",
      "generate output_image:/home/source/models/research/object_detection/test_goods/test/meinianda/visual_WIN_20171106_14_49_33_Pro.jpg\n",
      "generate output_image:/home/source/models/research/object_detection/test_goods/test/meinianda/visual_WIN_20171106_14_49_36_Pro.jpg\n",
      "generate output_image:/home/source/models/research/object_detection/test_goods/test/meinianda/visual_WIN_20171106_14_49_38_Pro.jpg\n",
      "generate output_image:/home/source/models/research/object_detection/test_goods/test/meinianda/visual_WIN_20171106_14_49_40_Pro.jpg\n",
      "generate output_image:/home/source/models/research/object_detection/test_goods/test/meinianda/visual_WIN_20171106_14_49_42_Pro.jpg\n",
      "generate output_image:/home/source/models/research/object_detection/test_goods/test/meinianda/visual_WIN_20171106_14_49_44_Pro.jpg\n",
      "generate output_image:/home/source/models/research/object_detection/test_goods/test/meinianda/visual_WIN_20171106_14_49_46_Pro.jpg\n",
      "generate output_image:/home/source/models/research/object_detection/test_goods/test/meinianda/visual_WIN_20171106_14_49_48_Pro.jpg\n",
      "generate output_image:/home/source/models/research/object_detection/test_goods/test/meinianda/visual_WIN_20171106_14_49_50_Pro.jpg\n",
      "generate output_image:/home/source/models/research/object_detection/test_goods/test/meinianda/visual_WIN_20171106_14_49_52_Pro.jpg\n",
      "generate output_image:/home/source/models/research/object_detection/test_goods/test/meinianda/visual_WIN_20171106_14_49_54_Pro.jpg\n",
      "generate output_image:/home/source/models/research/object_detection/test_goods/test/meinianda/visual_WIN_20171106_14_49_56_Pro.jpg\n",
      "generate output_image:/home/source/models/research/object_detection/test_goods/test/meinianda/visual_WIN_20171106_14_49_59_Pro.jpg\n",
      "generate output_image:/home/source/models/research/object_detection/test_goods/test/meinianda/visual_WIN_20171106_14_50_01_Pro.jpg\n",
      "generate output_image:/home/source/models/research/object_detection/test_goods/test/meinianda/visual_WIN_20171106_14_50_05_Pro.jpg\n",
      "generate output_image:/home/source/models/research/object_detection/test_goods/test/meinianda/visual_WIN_20171106_14_50_09_Pro.jpg\n",
      "generate output_image:/home/source/models/research/object_detection/test_goods/test/meinianda/visual_WIN_20171106_14_50_11_Pro.jpg\n",
      "output_dir:/home/source/models/research/object_detection/test_goods/test/hongniu\n",
      "generate output_image:/home/source/models/research/object_detection/test_goods/test/hongniu/visual_11_1.jpg\n",
      "generate output_image:/home/source/models/research/object_detection/test_goods/test/hongniu/visual_11_2.jpg\n",
      "generate output_image:/home/source/models/research/object_detection/test_goods/test/hongniu/visual_11_3.jpg\n",
      "generate output_image:/home/source/models/research/object_detection/test_goods/test/hongniu/visual_WIN_20171106_14_50_46_Pro.jpg\n",
      "generate output_image:/home/source/models/research/object_detection/test_goods/test/hongniu/visual_WIN_20171106_14_50_51_Pro.jpg\n",
      "generate output_image:/home/source/models/research/object_detection/test_goods/test/hongniu/visual_WIN_20171106_14_50_53_Pro.jpg\n",
      "generate output_image:/home/source/models/research/object_detection/test_goods/test/hongniu/visual_WIN_20171106_14_50_55_Pro.jpg\n",
      "generate output_image:/home/source/models/research/object_detection/test_goods/test/hongniu/visual_WIN_20171106_14_51_00_Pro.jpg\n",
      "generate output_image:/home/source/models/research/object_detection/test_goods/test/hongniu/visual_WIN_20171106_14_51_04_Pro.jpg\n",
      "generate output_image:/home/source/models/research/object_detection/test_goods/test/hongniu/visual_WIN_20171106_14_51_08_Pro.jpg\n",
      "generate output_image:/home/source/models/research/object_detection/test_goods/test/hongniu/visual_WIN_20171106_14_51_11_Pro.jpg\n",
      "generate output_image:/home/source/models/research/object_detection/test_goods/test/hongniu/visual_WIN_20171106_14_51_13_Pro.jpg\n",
      "generate output_image:/home/source/models/research/object_detection/test_goods/test/hongniu/visual_WIN_20171106_14_51_18_Pro.jpg\n",
      "generate output_image:/home/source/models/research/object_detection/test_goods/test/hongniu/visual_WIN_20171106_14_51_19_Pro.jpg\n",
      "generate output_image:/home/source/models/research/object_detection/test_goods/test/hongniu/visual_WIN_20171106_14_51_21_Pro.jpg\n",
      "generate output_image:/home/source/models/research/object_detection/test_goods/test/hongniu/visual_WIN_20171106_14_51_22_Pro.jpg\n",
      "generate output_image:/home/source/models/research/object_detection/test_goods/test/hongniu/visual_WIN_20171106_14_51_24_Pro.jpg\n",
      "generate output_image:/home/source/models/research/object_detection/test_goods/test/hongniu/visual_WIN_20171106_14_51_26_Pro.jpg\n",
      "generate output_image:/home/source/models/research/object_detection/test_goods/test/hongniu/visual_WIN_20171106_14_51_28_Pro.jpg\n",
      "generate output_image:/home/source/models/research/object_detection/test_goods/test/hongniu/visual_WIN_20171106_14_51_30_Pro.jpg\n",
      "generate output_image:/home/source/models/research/object_detection/test_goods/test/hongniu/visual_WIN_20171106_14_51_36_Pro.jpg\n",
      "generate output_image:/home/source/models/research/object_detection/test_goods/test/hongniu/visual_WIN_20171106_14_51_38_Pro.jpg\n",
      "generate output_image:/home/source/models/research/object_detection/test_goods/test/hongniu/visual_WIN_20171106_14_51_40_Pro.jpg\n",
      "generate output_image:/home/source/models/research/object_detection/test_goods/test/hongniu/visual_WIN_20171106_14_51_41_Pro.jpg\n",
      "generate output_image:/home/source/models/research/object_detection/test_goods/test/hongniu/visual_WIN_20171106_14_51_47_Pro (2).jpg\n",
      "generate output_image:/home/source/models/research/object_detection/test_goods/test/hongniu/visual_WIN_20171106_14_51_47_Pro.jpg\n",
      "generate output_image:/home/source/models/research/object_detection/test_goods/test/hongniu/visual_WIN_20171106_14_51_51_Pro.jpg\n",
      "generate output_image:/home/source/models/research/object_detection/test_goods/test/hongniu/visual_WIN_20171106_14_51_55_Pro.jpg\n",
      "generate output_image:/home/source/models/research/object_detection/test_goods/test/hongniu/visual_WIN_20171106_14_51_57_Pro.jpg\n",
      "generate output_image:/home/source/models/research/object_detection/test_goods/test/hongniu/visual_WIN_20171106_14_51_58_Pro.jpg\n"
     ]
    }
   ],
   "source": [
    "with detection_graph.as_default():\n",
    "  config = tf.ConfigProto()\n",
    "  # config.gpu_options.allow_growth = True\n",
    "  config.gpu_options.per_process_gpu_memory_fraction = 0.1  # 占用GPU50%的显存\n",
    "  with tf.Session(graph=detection_graph,config=config) as sess:\n",
    "    # Definite input and output Tensors for detection_graph\n",
    "    image_tensor = detection_graph.get_tensor_by_name('image_tensor:0')\n",
    "    # Each box represents a part of the image where a particular object was detected.\n",
    "    detection_boxes = detection_graph.get_tensor_by_name('detection_boxes:0')\n",
    "    # Each score represent how level of confidence for each of the objects.\n",
    "    # Score is shown on the result image, together with the class label.\n",
    "    detection_scores = detection_graph.get_tensor_by_name('detection_scores:0')\n",
    "    detection_classes = detection_graph.get_tensor_by_name('detection_classes:0')\n",
    "    \n",
    "    dirlist = os.listdir(IMAGE_DIR) #列出文件夹下所有的目录与文件\n",
    "    for i in range(0,len(dirlist)):\n",
    "      image_dir = os.path.join(IMAGE_DIR,dirlist[i])\n",
    "      if os.path.isdir(image_dir):\n",
    "        print('output_dir:{}'.format(image_dir))\n",
    "        imagelist = os.listdir(image_dir)\n",
    "        for j in range(0,len(imagelist)):\n",
    "          if imagelist[j].split('_')[0] == 'visual':\n",
    "            continue\n",
    "          a, b = os.path.splitext(imagelist[j])\n",
    "          if b != '.jpg' and b != '.JPG':\n",
    "            continue\n",
    "          image_path = os.path.join(image_dir,imagelist[j])\n",
    "          if os.path.isfile(image_path):\n",
    "              output_image_path = os.path.join(image_dir,'visual_'+imagelist[j])\n",
    "              if os.path.isfile(output_image_path):\n",
    "                continue\n",
    "              image = Image.open(image_path)\n",
    "              if image.mode != 'RGB':\n",
    "                image = image.convert('RGB')\n",
    "              # the array based representation of the image will be used later in order to prepare the\n",
    "              # result image with boxes and labels on it.\n",
    "              image_np = load_image_into_numpy_array(image)\n",
    "              # Expand dimensions since the model expects images to have shape: [1, None, None, 3]\n",
    "              image_np_expanded = np.expand_dims(image_np, axis=0)\n",
    "              # Actual detection.\n",
    "              (boxes, scores, classes) = sess.run(\n",
    "                  [detection_boxes, detection_scores, detection_classes],\n",
    "                  feed_dict={image_tensor: image_np_expanded})\n",
    "              # Visualization of the results of a detection.\n",
    "              vis_util.visualize_boxes_and_labels_on_image_array(\n",
    "                  image_np,\n",
    "                  np.squeeze(boxes),\n",
    "                  np.squeeze(classes).astype(np.int32),\n",
    "                  np.squeeze(scores),\n",
    "                  category_index,\n",
    "                  use_normalized_coordinates=True,\n",
    "                  line_thickness=8)\n",
    "              output_image = Image.fromarray(image_np)\n",
    "              output_image.save(output_image_path)\n",
    "              print('generate output_image:{}'.format(output_image_path))"
   ]
  },
  {
   "cell_type": "code",
   "execution_count": null,
   "metadata": {
    "collapsed": true
   },
   "outputs": [],
   "source": []
  }
 ],
 "metadata": {
  "kernelspec": {
   "display_name": "Python 3",
   "language": "python",
   "name": "python3"
  },
  "language_info": {
   "codemirror_mode": {
    "name": "ipython",
    "version": 3
   },
   "file_extension": ".py",
   "mimetype": "text/x-python",
   "name": "python",
   "nbconvert_exporter": "python",
   "pygments_lexer": "ipython3",
   "version": "3.6.2"
  }
 },
 "nbformat": 4,
 "nbformat_minor": 2
}
