{
 "cells": [
  {
   "cell_type": "code",
   "execution_count": 1,
   "metadata": {
    "collapsed": true
   },
   "outputs": [],
   "source": [
    "import os"
   ]
  },
  {
   "cell_type": "code",
   "execution_count": 2,
   "metadata": {
    "collapsed": true
   },
   "outputs": [],
   "source": [
    "def get_recursive_filenames(directory,upc_to_filenames):\n",
    "    for name in os.listdir(directory):\n",
    "        path = os.path.join(directory, name)\n",
    "        if os.path.isdir(path):\n",
    "            get_recursive_filenames(path,upc_to_filenames)\n",
    "        else:\n",
    "            upc = os.path.basename(os.path.dirname(path))\n",
    "            if upc in upc_to_filenames:\n",
    "                upc_to_filenames[upc].append(path)\n",
    "            else:\n",
    "                upc_to_filenames[upc] = [path]\n"
   ]
  },
  {
   "cell_type": "code",
   "execution_count": 3,
   "metadata": {
    "collapsed": true
   },
   "outputs": [],
   "source": [
    "upc_to_filenames={}\n",
    "get_recursive_filenames('/home/src/goodsdl/media/dataset/step20',upc_to_filenames)"
   ]
  },
  {
   "cell_type": "code",
   "execution_count": 5,
   "metadata": {
    "collapsed": false
   },
   "outputs": [
    {
     "data": {
      "text/plain": [
       "423"
      ]
     },
     "execution_count": 5,
     "metadata": {},
     "output_type": "execute_result"
    }
   ],
   "source": [
    "len(upc_to_filenames)"
   ]
  },
  {
   "cell_type": "code",
   "execution_count": 1,
   "metadata": {
    "collapsed": false
   },
   "outputs": [
    {
     "name": "stdout",
     "output_type": "stream",
     "text": [
      "upc_to_lines:\n",
      "{'6951003200048': [0], '6923976111171': [0, 7, 10, 12], '6923976111195': [1], '6923976113137': [1], '6924743920361': [2], '6921290410444': [2], '6924743919228': [3, 4], '6924743920996': [3, 5], '6924743919242': [4, 5, 11], '6909409040775': [6], '6909409012321': [6], '6909409040898': [7], '6920912342019': [8], '6920912342002': [8], '6932005203077': [9], '6943290500666': [9], '6924743919235': [10, 11], '6924743918610': [12]}\n"
     ]
    }
   ],
   "source": [
    "# source_cluster = [['A','B'],['A','D'],['B','E'],['E','F'],['C','D'],['G','A'],['N','M']]\n",
    "source_cluster = [['6951003200048', '6923976111171'], ['6923976111195', '6923976113137'], ['6924743920361', '6921290410444'], ['6924743919228', '6924743920996'], ['6924743919228', '6924743919242'], ['6924743920996', '6924743919242'], ['6909409040775', '6909409012321'], ['6909409040898', '6923976111171'], ['6920912342019', '6920912342002'], ['6932005203077', '6943290500666'], ['6924743919235', '6923976111171'], ['6924743919235', '6924743919242'], ['6924743918610', '6923976111171']]\n",
    "upc_to_lines = {}  # {A:[0,1,5],B:[0,2],C:[3],D:[1,3],E:[2,4],F:[4],G:[5],N:[6],M:[6]}\n",
    "for i in range(len(source_cluster)):\n",
    "    for j in range(2):\n",
    "        if source_cluster[i][j] in upc_to_lines:\n",
    "            upc_to_lines[source_cluster[i][j]].append(i)\n",
    "        else:\n",
    "            upc_to_lines[source_cluster[i][j]] = [i]\n",
    "\n",
    "print('upc_to_lines:')\n",
    "print(upc_to_lines)\n"
   ]
  },
  {
   "cell_type": "code",
   "execution_count": 3,
   "metadata": {
    "collapsed": false
   },
   "outputs": [
    {
     "name": "stdout",
     "output_type": "stream",
     "text": [
      "solved_upc_to_lines:\n",
      "{'6923976111195': [1], '6924743920361': [2], '6909409040775': [6], '6920912342019': [8], '6932005203077': [9], '6': [3, 4, 5, 11, 0, 7, 10, 12]}\n",
      "solved_line_to_upc:\n",
      "{0: '6', 7: '6', 10: '6', 12: '6', 1: '6923976111195', 2: '6924743920361', 3: '6', 4: '6', 5: '6', 11: '6', 6: '6909409040775', 8: '6920912342019', 9: '6932005203077'}\n"
     ]
    }
   ],
   "source": [
    "solved_line_to_upc = {}\n",
    "solved_upc_to_lines = {}  # {A:[0,1,2,3,4,5],N:[6]}\n",
    "for upc in upc_to_lines:\n",
    "    unsolved_lines = []\n",
    "    cluster_upcs = []\n",
    "    for line in upc_to_lines[upc]:\n",
    "        if line in solved_line_to_upc:\n",
    "            cluster_upc = solved_line_to_upc[line]\n",
    "            if cluster_upc not in cluster_upcs:\n",
    "                cluster_upcs.append(cluster_upc)\n",
    "            if line not in solved_upc_to_lines[cluster_upc]:\n",
    "                solved_upc_to_lines[cluster_upc].append(line)\n",
    "        else:\n",
    "            unsolved_lines.append(line)\n",
    "\n",
    "    if len(cluster_upcs) > 1: #需要处理多个聚类\n",
    "        cluster_upcs = sorted(cluster_upcs)\n",
    "        main_upc = cluster_upc[0]\n",
    "        if main_upc not in solved_upc_to_lines:\n",
    "            solved_upc_to_lines[main_upc] = []\n",
    "        for cluster_upc in cluster_upcs:\n",
    "            if cluster_upc != main_upc:\n",
    "                for line in solved_upc_to_lines[cluster_upc]:\n",
    "                    if line not in solved_upc_to_lines[main_upc]:\n",
    "                        solved_upc_to_lines[main_upc].append(line)\n",
    "                    solved_line_to_upc[line] = main_upc\n",
    "                solved_upc_to_lines.pop(cluster_upc)            \n",
    "        cluster_upcs = [main_upc]\n",
    "    for line in unsolved_lines:\n",
    "        if len(cluster_upcs) == 0: # 不聚类\n",
    "            solved_line_to_upc[line] = upc\n",
    "            if upc not in solved_upc_to_lines:\n",
    "                solved_upc_to_lines[upc] = [line]\n",
    "            else:\n",
    "                if line not in solved_upc_to_lines[upc]:\n",
    "                    solved_upc_to_lines[upc].append(line)\n",
    "        elif len(cluster_upcs) == 1: # 聚到指定的类\n",
    "            if line not in solved_upc_to_lines[cluster_upcs[0]]:\n",
    "                solved_upc_to_lines[cluster_upcs[0]].append(line)\n",
    "            solved_line_to_upc[line] = cluster_upcs[0]\n",
    "\n",
    "print('solved_upc_to_lines:')\n",
    "print(solved_upc_to_lines)\n",
    "print('solved_line_to_upc:')\n",
    "print(solved_line_to_upc)\n",
    "\n"
   ]
  },
  {
   "cell_type": "code",
   "execution_count": 4,
   "metadata": {
    "collapsed": false
   },
   "outputs": [
    {
     "name": "stdout",
     "output_type": "stream",
     "text": [
      "solved_cluster:\n",
      "{'6923976111195': ['6923976113137'], '6921290410444': ['6924743920361'], '6909409012321': ['6909409040775'], '6920912342002': ['6920912342019'], '6932005203077': ['6943290500666'], '6909409040898': ['6923976111171', '6924743918610', '6924743919228', '6924743919235', '6924743919242', '6924743920996', '6951003200048']}\n"
     ]
    }
   ],
   "source": [
    "solved_cluster = {}  # {'A': ['B', 'C', 'D', 'G', 'H', 'E', 'F'], 'M': ['N']}\n",
    "\n",
    "for key in solved_upc_to_lines:\n",
    "    one_cluster = []\n",
    "    for line in solved_upc_to_lines[key]:\n",
    "        for upc in source_cluster[line]:\n",
    "            if upc not in one_cluster:\n",
    "                one_cluster.append(upc)\n",
    "\n",
    "    one_cluster = sorted(one_cluster)\n",
    "    main_upc = one_cluster[0]\n",
    "    one_cluster.remove(main_upc)\n",
    "    solved_cluster[main_upc] = one_cluster\n",
    "\n",
    "print('solved_cluster:')\n",
    "print(solved_cluster)\n"
   ]
  },
  {
   "cell_type": "code",
   "execution_count": null,
   "metadata": {
    "collapsed": true
   },
   "outputs": [],
   "source": []
  }
 ],
 "metadata": {
  "kernelspec": {
   "display_name": "Python 3",
   "language": "python",
   "name": "python3"
  },
  "language_info": {
   "codemirror_mode": {
    "name": "ipython",
    "version": 3
   },
   "file_extension": ".py",
   "mimetype": "text/x-python",
   "name": "python",
   "nbconvert_exporter": "python",
   "pygments_lexer": "ipython3",
   "version": "3.6.0"
  }
 },
 "nbformat": 4,
 "nbformat_minor": 2
}
