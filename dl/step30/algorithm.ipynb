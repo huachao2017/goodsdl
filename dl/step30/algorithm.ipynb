{
 "cells": [
  {
   "cell_type": "code",
   "execution_count": 1,
   "metadata": {
    "collapsed": true
   },
   "outputs": [],
   "source": [
    "import os"
   ]
  },
  {
   "cell_type": "code",
   "execution_count": 2,
   "metadata": {
    "collapsed": true
   },
   "outputs": [],
   "source": [
    "def get_recursive_filenames(directory,upc_to_filenames):\n",
    "    for name in os.listdir(directory):\n",
    "        path = os.path.join(directory, name)\n",
    "        if os.path.isdir(path):\n",
    "            get_recursive_filenames(path,upc_to_filenames)\n",
    "        else:\n",
    "            upc = os.path.basename(os.path.dirname(path))\n",
    "            if upc in upc_to_filenames:\n",
    "                upc_to_filenames[upc].append(path)\n",
    "            else:\n",
    "                upc_to_filenames[upc] = [path]\n"
   ]
  },
  {
   "cell_type": "code",
   "execution_count": 3,
   "metadata": {
    "collapsed": true
   },
   "outputs": [],
   "source": [
    "upc_to_filenames={}\n",
    "get_recursive_filenames('/home/src/goodsdl/media/dataset/step20',upc_to_filenames)"
   ]
  },
  {
   "cell_type": "code",
   "execution_count": 5,
   "metadata": {},
   "outputs": [
    {
     "data": {
      "text/plain": [
       "423"
      ]
     },
     "execution_count": 5,
     "metadata": {},
     "output_type": "execute_result"
    }
   ],
   "source": [
    "len(upc_to_filenames)"
   ]
  },
  {
   "cell_type": "code",
   "execution_count": 19,
   "metadata": {
    "collapsed": true
   },
   "outputs": [],
   "source": [
    "source_clusters = {'A':['B','C','D'],'B':['C','E'],'C':['F'],'E':['F'],'G':['A','H'],'N':['M','O']}\n",
    "sorted_cluster = {}  # {A:[B,C,D,G,H],B:[C,E],C:[F],E:[F],M:[N,O]}\n",
    "for key in source_clusters:\n",
    "    ones = [key]\n",
    "    for one in source_clusters[key]:\n",
    "        ones.append(one)\n",
    "    sorted_ones = sorted(ones)\n",
    "    f_upc = sorted_ones[0]\n",
    "    sorted_ones.remove(f_upc)\n",
    "    if f_upc in sorted_cluster:\n",
    "        for one in sorted_ones:\n",
    "            if one not in sorted_cluster[f_upc]:\n",
    "                sorted_cluster[f_upc].append(one)\n",
    "    else:\n",
    "        sorted_cluster[f_upc] = sorted_ones\n"
   ]
  },
  {
   "cell_type": "code",
   "execution_count": 20,
   "metadata": {},
   "outputs": [
    {
     "data": {
      "text/plain": [
       "{'A': ['B', 'C', 'D', 'G', 'H'],\n",
       " 'B': ['C', 'E'],\n",
       " 'C': ['F'],\n",
       " 'E': ['F'],\n",
       " 'M': ['N', 'O']}"
      ]
     },
     "execution_count": 20,
     "metadata": {},
     "output_type": "execute_result"
    }
   ],
   "source": [
    "sorted_cluster"
   ]
  },
  {
   "cell_type": "code",
   "execution_count": 21,
   "metadata": {
    "collapsed": true
   },
   "outputs": [],
   "source": [
    "def inner_find(f_upc, sorted_cluster,solved_keys):\n",
    "    solved_keys.append(f_upc)\n",
    "    ones = sorted_cluster[f_upc]\n",
    "    ret = ones.copy()\n",
    "    for one in ones:\n",
    "        if one in sorted_cluster:\n",
    "            finds = inner_find(one, sorted_cluster,solved_keys)\n",
    "            for find_one in finds:\n",
    "                if find_one not in ret:\n",
    "                    ret.append(find_one)\n",
    "\n",
    "    return ret"
   ]
  },
  {
   "cell_type": "code",
   "execution_count": 22,
   "metadata": {},
   "outputs": [],
   "source": [
    "solved_cluster = {}  # {A:[B,C,D,E,F,G,H]}\n",
    "solved_keys = []\n",
    "for f_upc in sorted_cluster:\n",
    "    if f_upc not in solved_keys:\n",
    "        solved_cluster[f_upc] = inner_find(f_upc, sorted_cluster,solved_keys)\n"
   ]
  },
  {
   "cell_type": "code",
   "execution_count": 23,
   "metadata": {},
   "outputs": [
    {
     "data": {
      "text/plain": [
       "{'A': ['B', 'C', 'D', 'G', 'H', 'E', 'F'], 'M': ['N', 'O']}"
      ]
     },
     "execution_count": 23,
     "metadata": {},
     "output_type": "execute_result"
    }
   ],
   "source": [
    "solved_cluster"
   ]
  },
  {
   "cell_type": "code",
   "execution_count": null,
   "metadata": {
    "collapsed": true
   },
   "outputs": [],
   "source": []
  }
 ],
 "metadata": {
  "kernelspec": {
   "display_name": "Python 3",
   "language": "python",
   "name": "python3"
  },
  "language_info": {
   "codemirror_mode": {
    "name": "ipython",
    "version": 3
   },
   "file_extension": ".py",
   "mimetype": "text/x-python",
   "name": "python",
   "nbconvert_exporter": "python",
   "pygments_lexer": "ipython3",
   "version": "3.6.2"
  }
 },
 "nbformat": 4,
 "nbformat_minor": 2
}
