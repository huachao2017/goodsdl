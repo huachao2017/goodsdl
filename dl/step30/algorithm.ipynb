{
 "cells": [
  {
   "cell_type": "code",
   "execution_count": 1,
   "metadata": {
    "collapsed": true
   },
   "outputs": [],
   "source": [
    "import os"
   ]
  },
  {
   "cell_type": "code",
   "execution_count": 2,
   "metadata": {
    "collapsed": true
   },
   "outputs": [],
   "source": [
    "def get_recursive_filenames(directory,upc_to_filenames):\n",
    "    for name in os.listdir(directory):\n",
    "        path = os.path.join(directory, name)\n",
    "        if os.path.isdir(path):\n",
    "            get_recursive_filenames(path,upc_to_filenames)\n",
    "        else:\n",
    "            upc = os.path.basename(os.path.dirname(path))\n",
    "            if upc in upc_to_filenames:\n",
    "                upc_to_filenames[upc].append(path)\n",
    "            else:\n",
    "                upc_to_filenames[upc] = [path]\n"
   ]
  },
  {
   "cell_type": "code",
   "execution_count": 3,
   "metadata": {
    "collapsed": true
   },
   "outputs": [],
   "source": [
    "upc_to_filenames={}\n",
    "get_recursive_filenames('/home/src/goodsdl/media/dataset/step20',upc_to_filenames)"
   ]
  },
  {
   "cell_type": "code",
   "execution_count": 5,
   "metadata": {
    "collapsed": false
   },
   "outputs": [
    {
     "data": {
      "text/plain": [
       "423"
      ]
     },
     "execution_count": 5,
     "metadata": {},
     "output_type": "execute_result"
    }
   ],
   "source": [
    "len(upc_to_filenames)"
   ]
  },
  {
   "cell_type": "code",
   "execution_count": 13,
   "metadata": {
    "collapsed": false
   },
   "outputs": [
    {
     "name": "stdout",
     "output_type": "stream",
     "text": [
      "upc_to_lines:\n",
      "{'A': [0, 1, 5], 'B': [0, 2], 'D': [1, 4], 'E': [2, 3], 'F': [3], 'C': [4], 'G': [5], 'N': [6], 'M': [6]}\n"
     ]
    }
   ],
   "source": [
    "source_cluster = [['A','B'],['A','D'],['B','E'],['E','F'],['C','D'],['G','A'],['N','M']]\n",
    "upc_to_lines = {}  # {A:[0,1,5],B:[0,2],C:[3],D:[1,3],E:[2,4],F:[4],G:[5],N:[6],M:[6]}\n",
    "for i in range(len(source_cluster)):\n",
    "    for j in range(2):\n",
    "        if source_cluster[i][j] in upc_to_lines:\n",
    "            upc_to_lines[source_cluster[i][j]].append(i)\n",
    "        else:\n",
    "            upc_to_lines[source_cluster[i][j]] = [i]\n",
    "\n",
    "print('upc_to_lines:')\n",
    "print(upc_to_lines)\n"
   ]
  },
  {
   "cell_type": "code",
   "execution_count": 14,
   "metadata": {
    "collapsed": false
   },
   "outputs": [
    {
     "name": "stdout",
     "output_type": "stream",
     "text": [
      "upc_to_lines:\n",
      "{'A': [0, 1, 5], 'B': [0, 2], 'D': [1, 4], 'E': [2, 3], 'F': [3], 'C': [4], 'G': [5], 'N': [6], 'M': [6]}\n"
     ]
    }
   ],
   "source": [
    "upc_to_lines = {}  # {A:[0,1,5],B:[0,2],C:[3],D:[1,3],E:[2,4],F:[4],G:[5],N:[6],M:[6]}\n",
    "for i in range(len(source_cluster)):\n",
    "    for j in range(2):\n",
    "        if source_cluster[i][j] in upc_to_lines:\n",
    "            upc_to_lines[source_cluster[i][j]].append(i)\n",
    "        else:\n",
    "            upc_to_lines[source_cluster[i][j]] = [i]\n",
    "\n",
    "print('upc_to_lines:')\n",
    "print(upc_to_lines)\n"
   ]
  },
  {
   "cell_type": "code",
   "execution_count": 16,
   "metadata": {
    "collapsed": false
   },
   "outputs": [
    {
     "name": "stdout",
     "output_type": "stream",
     "text": [
      "solved_upc_to_lines:\n",
      "{'A': [0, 1, 5, 2, 4, 3], 'N': [6]}\n",
      "solved_line_to_upc:\n",
      "{0: 'A', 1: 'A', 5: 'A', 2: 'A', 4: 'A', 3: 'A', 6: 'N'}\n"
     ]
    }
   ],
   "source": [
    "solved_line_to_upc = {}\n",
    "solved_upc_to_lines = {}  # {A:[0,1,2,3,4,5],N:[6]}\n",
    "for upc in upc_to_lines:\n",
    "    unsolved_lines = []\n",
    "    cluster_upcs = []\n",
    "    for line in upc_to_lines[upc]:\n",
    "        if line in solved_line_to_upc:\n",
    "            cluster_upc = solved_line_to_upc[line]\n",
    "            if cluster_upc not in cluster_upcs:\n",
    "                cluster_upcs.append(cluster_upc)\n",
    "            if line not in solved_upc_to_lines[cluster_upc]:\n",
    "                solved_upc_to_lines[cluster_upc].append(line)\n",
    "        else:\n",
    "            unsolved_lines.append(line)\n",
    "\n",
    "    if len(cluster_upcs) > 1: #需要处理多个聚类\n",
    "        cluster_upcs = sorted(cluster_upcs)\n",
    "        main_upc = cluster_upc[0]\n",
    "        for cluster_upc in cluster_upcs:\n",
    "            if cluster_upc != main_upc:\n",
    "                for line in solved_upc_to_lines[cluster_upc]:\n",
    "                    if line not in solved_upc_to_lines[main_upc]:\n",
    "                        solved_upc_to_lines[main_upc].append(line)\n",
    "                    solved_line_to_upc[line] = main_upc\n",
    "                solved_upc_to_lines.pop(cluster_upc)            \n",
    "        cluster_upcs = [main_upc]\n",
    "    for line in unsolved_lines:\n",
    "        if len(cluster_upcs) == 0: # 不聚类\n",
    "            solved_line_to_upc[line] = upc\n",
    "            if upc not in solved_upc_to_lines:\n",
    "                solved_upc_to_lines[upc] = [line]\n",
    "            else:\n",
    "                if line not in solved_upc_to_lines[upc]:\n",
    "                    solved_upc_to_lines[upc].append(line)\n",
    "        elif len(cluster_upcs) == 1: # 聚到指定的类\n",
    "            if line not in solved_upc_to_lines[cluster_upcs[0]]:\n",
    "                solved_upc_to_lines[cluster_upcs[0]].append(line)\n",
    "            solved_line_to_upc[line] = cluster_upcs[0]\n",
    "\n",
    "print('solved_upc_to_lines:')\n",
    "print(solved_upc_to_lines)\n",
    "print('solved_line_to_upc:')\n",
    "print(solved_line_to_upc)\n",
    "\n"
   ]
  },
  {
   "cell_type": "code",
   "execution_count": 22,
   "metadata": {
    "collapsed": true
   },
   "outputs": [],
   "source": [
    "solved_cluster = {}  # {A:[B,C,D,E,F,G,H]}\n",
    "solved_keys = []\n",
    "for f_upc in sorted_cluster:\n",
    "    if f_upc not in solved_keys:\n",
    "        solved_cluster[f_upc] = inner_find(f_upc, sorted_cluster,solved_keys)\n"
   ]
  },
  {
   "cell_type": "code",
   "execution_count": 23,
   "metadata": {
    "collapsed": false
   },
   "outputs": [
    {
     "data": {
      "text/plain": [
       "{'A': ['B', 'C', 'D', 'G', 'H', 'E', 'F'], 'M': ['N', 'O']}"
      ]
     },
     "execution_count": 23,
     "metadata": {},
     "output_type": "execute_result"
    }
   ],
   "source": [
    "solved_cluster"
   ]
  },
  {
   "cell_type": "code",
   "execution_count": null,
   "metadata": {
    "collapsed": true
   },
   "outputs": [],
   "source": []
  }
 ],
 "metadata": {
  "kernelspec": {
   "display_name": "Python 3",
   "language": "python",
   "name": "python3"
  },
  "language_info": {
   "codemirror_mode": {
    "name": "ipython",
    "version": 3
   },
   "file_extension": ".py",
   "mimetype": "text/x-python",
   "name": "python",
   "nbconvert_exporter": "python",
   "pygments_lexer": "ipython3",
   "version": "3.6.0"
  }
 },
 "nbformat": 4,
 "nbformat_minor": 2
}
