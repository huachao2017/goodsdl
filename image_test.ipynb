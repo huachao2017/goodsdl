{
 "cells": [
  {
   "cell_type": "code",
   "execution_count": 1,
   "metadata": {
    "collapsed": true
   },
   "outputs": [],
   "source": [
    "from PIL import Image\n",
    "import PIL.ImageColor as ImageColor\n",
    "import PIL.ImageDraw as ImageDraw\n",
    "import PIL.ImageFont as ImageFont\n",
    "import os\n",
    "import sys\n",
    "from matplotlib import pyplot as plt\n",
    "import numpy as np\n",
    "import django"
   ]
  },
  {
   "cell_type": "code",
   "execution_count": 2,
   "metadata": {},
   "outputs": [],
   "source": [
    "os.environ.setdefault(\"DJANGO_SETTINGS_MODULE\", \"main.settings\")\n",
    "django.setup()\n",
    "from django.conf import settings"
   ]
  },
  {
   "cell_type": "code",
   "execution_count": 4,
   "metadata": {},
   "outputs": [],
   "source": [
    "from goods.models import TrainImage\n",
    "\n",
    "train_image = TrainImage.objects.get(pk=10)"
   ]
  },
  {
   "cell_type": "code",
   "execution_count": 6,
   "metadata": {},
   "outputs": [
    {
     "data": {
      "text/plain": [
       "<matplotlib.figure.Figure at 0x7f770c2b9860>"
      ]
     },
     "execution_count": 6,
     "metadata": {},
     "output_type": "execute_result"
    },
    {
     "data": {
      "text/plain": [
       "<matplotlib.figure.Figure at 0x7f770c2b9860>"
      ]
     },
     "metadata": {},
     "output_type": "display_data"
    }
   ],
   "source": [
    "# This is needed to display the images.\n",
    "%matplotlib inline\n",
    "\n",
    "\n",
    "image_path = train_image.source.path\n",
    "image = Image.open(image_path)\n",
    "\n",
    "xmin = train_image.xmin\n",
    "ymin = train_image.ymin\n",
    "xmax = train_image.xmax\n",
    "ymax = train_image.ymax\n",
    "\n",
    "(im_width, im_height) = image.size\n",
    "image_np = np.array(image.getdata()).reshape(\n",
    "  (im_height, im_width, 3)).astype(np.uint8)\n",
    "\n",
    "image_pil = Image.fromarray(np.uint8(image_np)).convert('RGB')\n",
    "draw = ImageDraw.Draw(image_pil)\n",
    "im_width, im_height = image_pil.size\n",
    "(left, right, top, bottom) = (xmin, xmax,\n",
    "                              ymin, ymax)\n",
    "\n",
    "draw.line([(left, top), (left, bottom), (right, bottom),\n",
    "         (right, top), (left, top)], width=2, fill='DarkOrange')\n",
    "np.copyto(image_np, np.array(image_pil))\n",
    "\n",
    "IMAGE_SIZE = (12, 8)\n",
    "plt.figure(figsize=IMAGE_SIZE)\n",
    "#plt.imshow(image_np)"
   ]
  },
  {
   "cell_type": "code",
   "execution_count": null,
   "metadata": {
    "collapsed": true
   },
   "outputs": [],
   "source": []
  }
 ],
 "metadata": {
  "kernelspec": {
   "display_name": "Python 3",
   "language": "python",
   "name": "python3"
  },
  "language_info": {
   "codemirror_mode": {
    "name": "ipython",
    "version": 3
   },
   "file_extension": ".py",
   "mimetype": "text/x-python",
   "name": "python",
   "nbconvert_exporter": "python",
   "pygments_lexer": "ipython3",
   "version": "3.6.2"
  }
 },
 "nbformat": 4,
 "nbformat_minor": 2
}
